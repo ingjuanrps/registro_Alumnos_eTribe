{
 "cells": [
  {
   "cell_type": "code",
   "execution_count": 1,
   "metadata": {},
   "outputs": [],
   "source": [
    "import pandas as pd\n",
    "import numpy as np\n",
    "from fastapi import APIRouter\n",
    "import mysql.connector\n",
    "%store -r"
   ]
  },
  {
   "cell_type": "code",
   "execution_count": 2,
   "metadata": {},
   "outputs": [],
   "source": [
    "# Conexión a la base de datos\n",
    "def connect_db():\n",
    "    return mysql.connector.connect(\n",
    "        host=host,\n",
    "        user=user,\n",
    "        password=password,\n",
    "        database=database\n",
    "    )"
   ]
  },
  {
   "cell_type": "code",
   "execution_count": 3,
   "metadata": {},
   "outputs": [
    {
     "name": "stdout",
     "output_type": "stream",
     "text": [
      "<mysql.connector.connection.MySQLConnection object at 0x000002074ABCA0E0>\n"
     ]
    }
   ],
   "source": [
    "connect_db()\n",
    "print(connect_db())"
   ]
  },
  {
   "cell_type": "code",
   "execution_count": 4,
   "metadata": {},
   "outputs": [],
   "source": [
    "# Obtener alumnos por ID\n",
    "def get_alumno_by_id(alumno_id):\n",
    "    conn = connect_db()\n",
    "    cursor = conn.cursor()\n",
    "    query = \"SELECT * FROM alumnos WHERE id_alumnos = %s\"\n",
    "    cursor.execute(query, (alumno_id,))\n",
    "    alumno = cursor.fetchone()\n",
    "    conn.close()\n",
    "    return alumno"
   ]
  },
  {
   "cell_type": "code",
   "execution_count": 5,
   "metadata": {},
   "outputs": [
    {
     "data": {
      "text/plain": [
       "(1, 'Juan', 'Sosa', 'juan@example.com')"
      ]
     },
     "execution_count": 5,
     "metadata": {},
     "output_type": "execute_result"
    }
   ],
   "source": [
    "alumno_id= 1\n",
    "get_alumno_by_id(alumno_id)"
   ]
  },
  {
   "cell_type": "code",
   "execution_count": 6,
   "metadata": {},
   "outputs": [],
   "source": [
    "# Insertar información de un alumno\n",
    "def update_alumno(alumno_id, correo):\n",
    "    conn = connect_db()\n",
    "    cursor = conn.cursor()\n",
    "    query = \"INSERT INTO alumnos (id_alumnos, correo) VALUES (%s, %s) ON DUPLICATE KEY UPDATE correo = %s\"\n",
    "    cursor.execute(query, (alumno_id, correo, correo))\n",
    "    conn.commit()\n",
    "    conn.close()"
   ]
  },
  {
   "cell_type": "code",
   "execution_count": 7,
   "metadata": {},
   "outputs": [],
   "source": [
    "update_alumno(15,'juan_juan@gmail.com')"
   ]
  },
  {
   "cell_type": "code",
   "execution_count": 8,
   "metadata": {},
   "outputs": [
    {
     "data": {
      "text/plain": [
       "(15, None, None, 'juan_juan@gmail.com')"
      ]
     },
     "execution_count": 8,
     "metadata": {},
     "output_type": "execute_result"
    }
   ],
   "source": [
    "alumno_id= 15\n",
    "get_alumno_by_id(alumno_id)"
   ]
  },
  {
   "cell_type": "code",
   "execution_count": 9,
   "metadata": {},
   "outputs": [],
   "source": [
    "# Eliminar a un alumno\n",
    "def delete_alumno(alumno_id):\n",
    "    conn = connect_db()\n",
    "    cursor = conn.cursor()\n",
    "    query = \"DELETE FROM alumnos WHERE id_alumnos = %s\"\n",
    "    cursor.execute(query, (alumno_id,))\n",
    "    conn.commit()\n",
    "    conn.close()"
   ]
  },
  {
   "cell_type": "code",
   "execution_count": 10,
   "metadata": {},
   "outputs": [],
   "source": [
    "delete_alumno(1)"
   ]
  },
  {
   "cell_type": "code",
   "execution_count": 11,
   "metadata": {},
   "outputs": [],
   "source": [
    "alumno_id= 1\n",
    "get_alumno_by_id(alumno_id)\n"
   ]
  },
  {
   "cell_type": "code",
   "execution_count": 13,
   "metadata": {},
   "outputs": [],
   "source": [
    "# Obtener materia por ID\n",
    "def get_materia_by_id(materia_id):\n",
    "    conn = connect_db()\n",
    "    cursor = conn.cursor()\n",
    "    query = \"SELECT * FROM materias WHERE id_materia = %s\"\n",
    "    cursor.execute(query, (materia_id,))\n",
    "    materia = cursor.fetchone()\n",
    "    conn.close()\n",
    "    return materia"
   ]
  },
  {
   "cell_type": "code",
   "execution_count": 14,
   "metadata": {},
   "outputs": [
    {
     "data": {
      "text/plain": [
       "(1, 'Algebra')"
      ]
     },
     "execution_count": 14,
     "metadata": {},
     "output_type": "execute_result"
    }
   ],
   "source": [
    "materia_id= 1\n",
    "get_materia_by_id(materia_id)"
   ]
  },
  {
   "cell_type": "code",
   "execution_count": 12,
   "metadata": {},
   "outputs": [],
   "source": [
    "# Dar de baja una materia\n",
    "def delete_materia(materia_id):\n",
    "    conn = connect_db()\n",
    "    cursor = conn.cursor()\n",
    "    query = \"DELETE FROM materias WHERE id_materia = %s\"\n",
    "    cursor.execute(query, (materia_id,))\n",
    "    conn.commit()\n",
    "    conn.close()"
   ]
  },
  {
   "cell_type": "code",
   "execution_count": 15,
   "metadata": {},
   "outputs": [],
   "source": [
    "materia_id= 1\n",
    "delete_materia(materia_id)"
   ]
  },
  {
   "cell_type": "code",
   "execution_count": 16,
   "metadata": {},
   "outputs": [],
   "source": [
    "materia_id= 1\n",
    "get_materia_by_id(materia_id)"
   ]
  },
  {
   "cell_type": "code",
   "execution_count": 22,
   "metadata": {},
   "outputs": [],
   "source": [
    "# Dar de alta o actualizar una materia\n",
    "def update_materia(materia_id, materia):\n",
    "    conn = connect_db()\n",
    "    cursor = conn.cursor()\n",
    "    query = \"INSERT INTO materias (id_materia, nombre_materia) VALUES (%s, %s) ON DUPLICATE KEY UPDATE nombre_materia = %s\"\n",
    "    cursor.execute(query, (materia_id, materia, materia))\n",
    "    conn.commit()\n",
    "    conn.close()"
   ]
  },
  {
   "cell_type": "code",
   "execution_count": 23,
   "metadata": {},
   "outputs": [],
   "source": [
    "id_materia= 9\n",
    "materia = 'Algebra'\n",
    "update_materia(id_materia, materia)"
   ]
  },
  {
   "cell_type": "code",
   "execution_count": 24,
   "metadata": {},
   "outputs": [
    {
     "data": {
      "text/plain": [
       "(9, 'Algebra Lineal')"
      ]
     },
     "execution_count": 24,
     "metadata": {},
     "output_type": "execute_result"
    }
   ],
   "source": [
    "materia_id= 9\n",
    "get_materia_by_id(materia_id)"
   ]
  },
  {
   "cell_type": "code",
   "execution_count": 25,
   "metadata": {},
   "outputs": [],
   "source": [
    "# Obtener todas las materias relacionadas con un alumno\n",
    "def get_materias_alumno(alumno_id):\n",
    "    conn = connect_db()\n",
    "    cursor = conn.cursor()\n",
    "    query = \"SELECT materias.nombre FROM materias JOIN inscripciones ON materias.id = inscripciones.materia_id WHERE inscripciones.alumno_id = %s\"\n",
    "    cursor.execute(query, (alumno_id,))\n",
    "    materias = cursor.fetchall()\n",
    "    conn.close()\n",
    "    return materias"
   ]
  }
 ],
 "metadata": {
  "kernelspec": {
   "display_name": "Python 3",
   "language": "python",
   "name": "python3"
  },
  "language_info": {
   "codemirror_mode": {
    "name": "ipython",
    "version": 3
   },
   "file_extension": ".py",
   "mimetype": "text/x-python",
   "name": "python",
   "nbconvert_exporter": "python",
   "pygments_lexer": "ipython3",
   "version": "3.10.7"
  }
 },
 "nbformat": 4,
 "nbformat_minor": 2
}
